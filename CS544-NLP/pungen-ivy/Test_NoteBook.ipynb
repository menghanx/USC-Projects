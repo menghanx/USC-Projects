{
 "cells": [
  {
   "cell_type": "markdown",
   "id": "b35ed345",
   "metadata": {},
   "source": [
    "# Wordnet examples"
   ]
  },
  {
   "cell_type": "code",
   "execution_count": 5,
   "id": "cce09ff5",
   "metadata": {},
   "outputs": [],
   "source": [
    "from nltk.corpus import wordnet as wn"
   ]
  },
  {
   "cell_type": "code",
   "execution_count": 8,
   "id": "8eceb642",
   "metadata": {},
   "outputs": [
    {
     "data": {
      "text/plain": [
       "[Synset('bat.n.01'),\n",
       " Synset('bat.n.02'),\n",
       " Synset('squash_racket.n.01'),\n",
       " Synset('cricket_bat.n.01'),\n",
       " Synset('bat.n.05'),\n",
       " Synset('bat.v.01'),\n",
       " Synset('bat.v.02'),\n",
       " Synset('bat.v.03'),\n",
       " Synset('bat.v.04'),\n",
       " Synset('cream.v.02')]"
      ]
     },
     "execution_count": 8,
     "metadata": {},
     "output_type": "execute_result"
    }
   ],
   "source": [
    "wn.synsets('bat')"
   ]
  },
  {
   "cell_type": "code",
   "execution_count": 12,
   "id": "33b6ef18",
   "metadata": {},
   "outputs": [
    {
     "name": "stdout",
     "output_type": "stream",
     "text": [
      "nocturnal mouselike mammal with forelimbs modified to form membranous wings and anatomical adaptations for echolocation by which they navigate\n"
     ]
    }
   ],
   "source": [
    "bat1 = wn.synset('bat.n.01')\n",
    "print(bat1.definition())"
   ]
  },
  {
   "cell_type": "code",
   "execution_count": 14,
   "id": "ec08f697",
   "metadata": {},
   "outputs": [
    {
     "name": "stdout",
     "output_type": "stream",
     "text": [
      "(baseball) a turn trying to get a hit\n"
     ]
    }
   ],
   "source": [
    "bat2 = wn.synset('bat.n.02')\n",
    "print(bat2.definition())"
   ]
  },
  {
   "cell_type": "markdown",
   "id": "39100bad",
   "metadata": {},
   "source": [
    "#### Synset: a set of synonyms that share a common meaning."
   ]
  },
  {
   "cell_type": "code",
   "execution_count": 17,
   "id": "c6987e14",
   "metadata": {
    "scrolled": true
   },
   "outputs": [
    {
     "data": {
      "text/plain": [
       "[Synset('dog.n.01'),\n",
       " Synset('frump.n.01'),\n",
       " Synset('dog.n.03'),\n",
       " Synset('cad.n.01'),\n",
       " Synset('frank.n.02'),\n",
       " Synset('pawl.n.01'),\n",
       " Synset('andiron.n.01'),\n",
       " Synset('chase.v.01')]"
      ]
     },
     "execution_count": 17,
     "metadata": {},
     "output_type": "execute_result"
    }
   ],
   "source": [
    "wn.synsets('dog')"
   ]
  },
  {
   "cell_type": "markdown",
   "id": "ef975ef1",
   "metadata": {},
   "source": [
    "#### hypernyms: a word with a broad meaning that more specific words fall under; a superordinate. For example, color is a hypernym of red. 上位词"
   ]
  },
  {
   "cell_type": "code",
   "execution_count": 18,
   "id": "a62e53f5",
   "metadata": {},
   "outputs": [
    {
     "data": {
      "text/plain": [
       "[Synset('canine.n.02'), Synset('domestic_animal.n.01')]"
      ]
     },
     "execution_count": 18,
     "metadata": {},
     "output_type": "execute_result"
    }
   ],
   "source": [
    "dog = wn.synset('dog.n.01')\n",
    "dog.hypernyms()"
   ]
  }
 ],
 "metadata": {
  "kernelspec": {
   "display_name": "Python 3",
   "language": "python",
   "name": "python3"
  },
  "language_info": {
   "codemirror_mode": {
    "name": "ipython",
    "version": 3
   },
   "file_extension": ".py",
   "mimetype": "text/x-python",
   "name": "python",
   "nbconvert_exporter": "python",
   "pygments_lexer": "ipython3",
   "version": "3.6.13"
  }
 },
 "nbformat": 4,
 "nbformat_minor": 5
}
