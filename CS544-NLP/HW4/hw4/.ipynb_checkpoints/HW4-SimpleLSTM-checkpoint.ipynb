{
 "cells": [
  {
   "cell_type": "code",
   "execution_count": 351,
   "id": "16df99b9",
   "metadata": {},
   "outputs": [],
   "source": [
    "import pandas as pd\n",
    "import numpy as np\n",
    "import nltk, re, json\n",
    "\n",
    "import torch\n",
    "import torch.nn as nn\n",
    "import torch.nn.functional as F\n",
    "import torch.optim as optim\n",
    "\n",
    "from torch.utils.data import DataLoader\n",
    "import torchvision.datasets as datasets\n",
    "import torchvision.datasets as transforms\n",
    "\n",
    "from sklearn.model_selection import train_test_split\n",
    "from tqdm import tqdm"
   ]
  },
  {
   "cell_type": "code",
   "execution_count": 78,
   "id": "a694668e",
   "metadata": {},
   "outputs": [],
   "source": [
    "def readFile(file):\n",
    "    f = open(file)\n",
    "    lines = f.readlines()\n",
    "    words = []\n",
    "    for line in lines:\n",
    "        if line.strip():\n",
    "            words.append(line.strip().split(' '))\n",
    "    return words"
   ]
  },
  {
   "cell_type": "code",
   "execution_count": 79,
   "id": "ab5472c2",
   "metadata": {},
   "outputs": [],
   "source": [
    "# store train sentences \n",
    "train_file = 'data/train'\n",
    "dev_file = 'data/dev'\n",
    "test_file = 'data/test'"
   ]
  },
  {
   "cell_type": "code",
   "execution_count": 140,
   "id": "d3c9b2d7",
   "metadata": {},
   "outputs": [],
   "source": [
    "train_lines = readFile(train_file)\n",
    "df = pd.DataFrame(train_lines, columns = [\"s_idx\", \"word\", \"tag\"])"
   ]
  },
  {
   "cell_type": "code",
   "execution_count": 149,
   "id": "21720b11",
   "metadata": {
    "scrolled": true
   },
   "outputs": [
    {
     "name": "stdout",
     "output_type": "stream",
     "text": [
      "vocab words: 11983\n",
      "rare words: 11641\n"
     ]
    }
   ],
   "source": [
    "# Randomly select some rare words to be <unk> words\n",
    "unique_words = df[\"word\"].value_counts().reset_index()\n",
    "unique_words.columns = [\"word\", \"freq\"]\n",
    "threshold = 1\n",
    "vocab_words = unique_words[ unique_words['freq'] > threshold ]\n",
    "rare_words = unique_words[ unique_words['freq'] == threshold ]\n",
    "print(\"vocab words:\", vocab_words.shape[0])\n",
    "print(\"rare words:\", rare_words.shape[0])"
   ]
  },
  {
   "cell_type": "code",
   "execution_count": 165,
   "id": "d6455658",
   "metadata": {},
   "outputs": [],
   "source": [
    "# Randomly select 3000 words from rare words to set as unknown words\n",
    "unk_count = 3000\n",
    "unk_rares = rare_words.sample(unk_count)\n",
    "\n",
    "# Use this list to replace train words to <unk>\n",
    "unk_set = set(unk_rares[\"word\"].unique().tolist())\n",
    "\n",
    "# drop selected rare words from rare words\n",
    "rest_rares = rare_words.drop(unk_rares.index)\n",
    "\n",
    "# build new vocab = freq_words + rest_rare_words + <unk>\n",
    "vocab = vocab_words.append(rest_rares, ignore_index=True)\n",
    "unk_row = pd.DataFrame([[\"<unk>\", 3000]], columns = [\"word\", \"freq\"])\n",
    "vocab = vocab.append(unk_row, ignore_index=True)\n",
    "\n",
    "# main vocab list, to generate embedding\n",
    "vocab_set = set(vocab['word'].unique().tolist())"
   ]
  },
  {
   "cell_type": "code",
   "execution_count": null,
   "id": "2493caf1",
   "metadata": {},
   "outputs": [],
   "source": [
    "# all the vocab\n",
    "word_to_idx = {word:i for i, word in enumerate(vocab_set)}"
   ]
  },
  {
   "cell_type": "code",
   "execution_count": 180,
   "id": "dbac17bc",
   "metadata": {},
   "outputs": [],
   "source": [
    "def readSentences(file):\n",
    "    f = open(file)\n",
    "    lines = f.readlines()\n",
    "    sentences = []\n",
    "    sentence = []\n",
    "    for line in lines:\n",
    "        if not line.strip():\n",
    "            sentences.append(sentence.copy())\n",
    "            sentence.clear()\n",
    "        else:\n",
    "            sentence.append(line.strip().split(' '))\n",
    "    # append the last sentence\n",
    "    sentences.append(sentence.copy())\n",
    "    return sentences"
   ]
  },
  {
   "cell_type": "code",
   "execution_count": 182,
   "id": "88d8db55",
   "metadata": {},
   "outputs": [],
   "source": [
    "# Group sentences together\n",
    "train_file = 'data/train'\n",
    "dev_file = 'data/dev'\n",
    "test_file = 'data/test'\n",
    "\n",
    "# word = [idx, word, tag]\n",
    "train_sentences = readSentences(train_file)\n",
    "dev_sentences = readSentences(dev_file)\n",
    "# word = [idx, word]\n",
    "test_sentences = readSentences(test_file)\n",
    "\n",
    "# Dummy test data\n",
    "dummy_file ='data/dummy'\n",
    "dummy_sentences = readSentences(dummy_file)"
   ]
  },
  {
   "cell_type": "code",
   "execution_count": 183,
   "id": "53122e7f",
   "metadata": {},
   "outputs": [
    {
     "name": "stdout",
     "output_type": "stream",
     "text": [
      "14987 3466 3684\n"
     ]
    }
   ],
   "source": [
    "print(len(train_sentences), len(dev_sentences), len(test_sentences))"
   ]
  },
  {
   "cell_type": "code",
   "execution_count": 225,
   "id": "61cbab20",
   "metadata": {
    "scrolled": true
   },
   "outputs": [],
   "source": [
    "def makeData(sentences):\n",
    "    inputs = []\n",
    "    targets = []\n",
    "    for sentence in sentences:\n",
    "        word_idx = []\n",
    "        target = []\n",
    "        for word in sentence:\n",
    "            if word[1] in vocab_set:\n",
    "                word_idx.append(word_to_idx[word[1]])\n",
    "            else:\n",
    "                word_idx.append(word_to_idx['<unk>'])            \n",
    "            target.append(tag_to_idx[word[2]])\n",
    "        inputs.append(word_idx)\n",
    "        targets.append(target)\n",
    "    return inputs, targets"
   ]
  },
  {
   "cell_type": "code",
   "execution_count": 207,
   "id": "fc78bfe6",
   "metadata": {},
   "outputs": [],
   "source": [
    "# # Take sentences array, return embedding index, and targets\n",
    "# def makeData(sentences):\n",
    "#     # List of list of tensor idx, each idx represent a word in the sentence\n",
    "#     inputs = []\n",
    "#     # list of list of int idx, each idx represent a tag.\n",
    "#     targets = []\n",
    "#     for sentence in sentences:\n",
    "#         word_idx = []\n",
    "#         target = []\n",
    "#         for word in sentence:\n",
    "#             if word[1] in vocab_set:\n",
    "#                 # convert int index to torch.long\n",
    "#                 word_idx.append(torch.tensor(word_to_idx[word[1]], dtype=torch.long))\n",
    "#             else:\n",
    "#                 word_idx.append(torch.tensor(word_to_idx['<unk>'], dtype=torch.long))            \n",
    "#             target.append(tag_to_idx[word[2]])\n",
    "#         inputs.append(word_idx)\n",
    "#         targets.append(target)\n",
    "#     return inputs, targets"
   ]
  },
  {
   "cell_type": "code",
   "execution_count": 356,
   "id": "ef93632d",
   "metadata": {},
   "outputs": [],
   "source": [
    "# all the unique tags\n",
    "tags = set(df[\"tag\"].unique())\n",
    "tag_to_idx = {tag:i for i, tag in enumerate(tags)}\n",
    "num_classes = len(df[\"tag\"].unique())\n",
    "\n",
    "embedding_dim = 100\n",
    "lstm_layer = 1\n",
    "hidden_dim = 256\n",
    "lstm_dropout = 0.33\n",
    "linear_out_dim = 128\n",
    "device = torch.device('cuda' if torch.cuda.is_available() else 'cpu')"
   ]
  },
  {
   "cell_type": "code",
   "execution_count": 389,
   "id": "2b0cb0de",
   "metadata": {},
   "outputs": [],
   "source": [
    "class BLSTM(nn.Module):\n",
    "    def __init__(self, vocab_size, embedding_dim, hidden_dim, num_classes, linear_out_dim, lstm_layer, lstm_dropout):\n",
    "        super(BLSTM, self).__init__()\n",
    "        self.hidden_size = hidden_dim\n",
    "        self.num_layers = lstm_layer\n",
    "        self.out_size = num_classes\n",
    "        \n",
    "        self.embedding = nn.Embedding(vocab_size, embedding_dim)\n",
    "        self.bilstm = nn.LSTM(\n",
    "            input_size=embedding_dim,\n",
    "            hidden_size=self.hidden_size,\n",
    "            batch_first=True,\n",
    "            bidirectional=True)\n",
    "        # Linear 1\n",
    "        self.fc1 = nn.Linear(2*self.hidden_size,linear_out_dim)\n",
    "        # classifier linear\n",
    "        self.fc2 = nn.Linear(linear_out_dim, num_classes)\n",
    "        self.dropout = nn.Dropout(lstm_dropout)\n",
    "        \n",
    "        \n",
    "        \n",
    "    def forward(self, x):\n",
    "        batch_size, seq_len = x.shape\n",
    "        \n",
    "#         h0 = torch.randn(self.num_layers*2, batch_size, self.hidden_size).to(device)\n",
    "#         c0 = torch.randn(self.num_layers*2, batch_size, self.hidden_size).to(device)\n",
    "        h0 = torch.randn(self.num_layers*2, batch_size, self.hidden_size).to(device)\n",
    "        c0 = torch.randn(self.num_layers*2, batch_size, self.hidden_size).to(device)\n",
    "        # embedding layer + dropout\n",
    "        x = self.dropout(self.embedding(x))\n",
    "        # BLSTM layer\n",
    "        x , _ = self.bilstm(x)\n",
    "        # Linear + ELU\n",
    "        x = F.elu(self.fc1(x))\n",
    "        # classifier\n",
    "        x = self.fc2(x)\n",
    "        x = F.softmax(x, dim=1)\n",
    "        return x.view(seq_len, self.out_size)\n",
    "    "
   ]
  },
  {
   "cell_type": "code",
   "execution_count": 329,
   "id": "fff942e1",
   "metadata": {},
   "outputs": [
    {
     "name": "stdout",
     "output_type": "stream",
     "text": [
      "tensor([[ 1.1715,  0.3064, -0.1101,  0.5220, -0.4690, -0.6432, -0.3959, -0.0424,\n",
      "          1.0491, -0.0986],\n",
      "        [ 0.9205,  0.5053, -0.2874, -0.0737, -0.8828, -0.5819,  0.3481,  1.1651,\n",
      "          0.3174,  0.9363]])\n",
      "tensor([[-0.3601, -1.0359,  0.1784,  0.9853,  0.2091],\n",
      "        [ 0.0415, -0.8341,  0.7340,  0.5089, -0.0962]],\n",
      "       grad_fn=<AddmmBackward>)\n"
     ]
    },
    {
     "data": {
      "text/plain": [
       "tensor([[0.1133, 0.0576, 0.1941, 0.4349, 0.2001],\n",
       "        [0.1700, 0.0708, 0.3398, 0.2713, 0.1481]], grad_fn=<SoftmaxBackward>)"
      ]
     },
     "execution_count": 329,
     "metadata": {},
     "output_type": "execute_result"
    }
   ],
   "source": [
    "\n",
    "input = torch.randn(2,10)\n",
    "out = F.elu(input)\n",
    "print(out)\n",
    "fc = nn.Linear(10,5)\n",
    "out = fc(out)\n",
    "print(out)\n",
    "F.augmaF.softmax(out, dim=1)）"
   ]
  },
  {
   "cell_type": "code",
   "execution_count": null,
   "id": "fdfc92f6",
   "metadata": {
    "scrolled": true
   },
   "outputs": [
    {
     "name": "stderr",
     "output_type": "stream",
     "text": [
      "100%|██████████| 14987/14987 [00:42<00:00, 353.68it/s]\n"
     ]
    },
    {
     "name": "stdout",
     "output_type": "stream",
     "text": [
      "tensor(2.1972, device='cuda:0', grad_fn=<NllLossBackward>)\n"
     ]
    },
    {
     "name": "stderr",
     "output_type": "stream",
     "text": [
      "100%|██████████| 14987/14987 [00:43<00:00, 344.11it/s]\n"
     ]
    },
    {
     "name": "stdout",
     "output_type": "stream",
     "text": [
      "tensor(2.1972, device='cuda:0', grad_fn=<NllLossBackward>)\n"
     ]
    },
    {
     "name": "stderr",
     "output_type": "stream",
     "text": [
      "100%|██████████| 14987/14987 [00:41<00:00, 357.13it/s]\n"
     ]
    },
    {
     "name": "stdout",
     "output_type": "stream",
     "text": [
      "tensor(2.1972, device='cuda:0', grad_fn=<NllLossBackward>)\n"
     ]
    },
    {
     "name": "stderr",
     "output_type": "stream",
     "text": [
      "100%|██████████| 14987/14987 [00:47<00:00, 315.46it/s]\n"
     ]
    },
    {
     "name": "stdout",
     "output_type": "stream",
     "text": [
      "tensor(2.1972, device='cuda:0', grad_fn=<NllLossBackward>)\n"
     ]
    },
    {
     "name": "stderr",
     "output_type": "stream",
     "text": [
      "100%|██████████| 14987/14987 [00:43<00:00, 344.35it/s]\n"
     ]
    },
    {
     "name": "stdout",
     "output_type": "stream",
     "text": [
      "tensor(2.1972, device='cuda:0', grad_fn=<NllLossBackward>)\n"
     ]
    },
    {
     "name": "stderr",
     "output_type": "stream",
     "text": [
      "100%|██████████| 14987/14987 [00:43<00:00, 341.49it/s]\n"
     ]
    },
    {
     "name": "stdout",
     "output_type": "stream",
     "text": [
      "tensor(2.1972, device='cuda:0', grad_fn=<NllLossBackward>)\n"
     ]
    },
    {
     "name": "stderr",
     "output_type": "stream",
     "text": [
      "100%|██████████| 14987/14987 [00:44<00:00, 335.01it/s]\n"
     ]
    },
    {
     "name": "stdout",
     "output_type": "stream",
     "text": [
      "tensor(2.1972, device='cuda:0', grad_fn=<NllLossBackward>)\n"
     ]
    },
    {
     "name": "stderr",
     "output_type": "stream",
     "text": [
      "100%|██████████| 14987/14987 [00:41<00:00, 361.58it/s]\n"
     ]
    },
    {
     "name": "stdout",
     "output_type": "stream",
     "text": [
      "tensor(2.1972, device='cuda:0', grad_fn=<NllLossBackward>)\n"
     ]
    },
    {
     "name": "stderr",
     "output_type": "stream",
     "text": [
      "100%|██████████| 14987/14987 [00:41<00:00, 360.19it/s]\n"
     ]
    },
    {
     "name": "stdout",
     "output_type": "stream",
     "text": [
      "tensor(2.1972, device='cuda:0', grad_fn=<NllLossBackward>)\n"
     ]
    },
    {
     "name": "stderr",
     "output_type": "stream",
     "text": [
      "100%|██████████| 14987/14987 [00:43<00:00, 346.98it/s]\n"
     ]
    },
    {
     "name": "stdout",
     "output_type": "stream",
     "text": [
      "tensor(2.1972, device='cuda:0', grad_fn=<NllLossBackward>)\n"
     ]
    },
    {
     "name": "stderr",
     "output_type": "stream",
     "text": [
      "100%|██████████| 14987/14987 [00:43<00:00, 344.08it/s]\n"
     ]
    },
    {
     "name": "stdout",
     "output_type": "stream",
     "text": [
      "tensor(2.1972, device='cuda:0', grad_fn=<NllLossBackward>)\n"
     ]
    },
    {
     "name": "stderr",
     "output_type": "stream",
     "text": [
      "100%|██████████| 14987/14987 [00:41<00:00, 363.57it/s]\n"
     ]
    },
    {
     "name": "stdout",
     "output_type": "stream",
     "text": [
      "tensor(2.1972, device='cuda:0', grad_fn=<NllLossBackward>)\n"
     ]
    },
    {
     "name": "stderr",
     "output_type": "stream",
     "text": [
      "100%|██████████| 14987/14987 [00:43<00:00, 347.21it/s]\n"
     ]
    },
    {
     "name": "stdout",
     "output_type": "stream",
     "text": [
      "tensor(2.1972, device='cuda:0', grad_fn=<NllLossBackward>)\n"
     ]
    },
    {
     "name": "stderr",
     "output_type": "stream",
     "text": [
      "100%|██████████| 14987/14987 [00:43<00:00, 343.76it/s]\n"
     ]
    },
    {
     "name": "stdout",
     "output_type": "stream",
     "text": [
      "tensor(2.1972, device='cuda:0', grad_fn=<NllLossBackward>)\n"
     ]
    },
    {
     "name": "stderr",
     "output_type": "stream",
     "text": [
      "100%|██████████| 14987/14987 [00:42<00:00, 355.54it/s]\n"
     ]
    },
    {
     "name": "stdout",
     "output_type": "stream",
     "text": [
      "tensor(2.1972, device='cuda:0', grad_fn=<NllLossBackward>)\n"
     ]
    },
    {
     "name": "stderr",
     "output_type": "stream",
     "text": [
      "100%|██████████| 14987/14987 [00:43<00:00, 344.25it/s]\n"
     ]
    },
    {
     "name": "stdout",
     "output_type": "stream",
     "text": [
      "tensor(2.1972, device='cuda:0', grad_fn=<NllLossBackward>)\n"
     ]
    },
    {
     "name": "stderr",
     "output_type": "stream",
     "text": [
      "100%|██████████| 14987/14987 [00:42<00:00, 353.10it/s]\n"
     ]
    },
    {
     "name": "stdout",
     "output_type": "stream",
     "text": [
      "tensor(2.1972, device='cuda:0', grad_fn=<NllLossBackward>)\n"
     ]
    },
    {
     "name": "stderr",
     "output_type": "stream",
     "text": [
      "100%|██████████| 14987/14987 [00:42<00:00, 355.64it/s]\n"
     ]
    },
    {
     "name": "stdout",
     "output_type": "stream",
     "text": [
      "tensor(2.1972, device='cuda:0', grad_fn=<NllLossBackward>)\n"
     ]
    },
    {
     "name": "stderr",
     "output_type": "stream",
     "text": [
      "100%|██████████| 14987/14987 [00:42<00:00, 356.20it/s]\n"
     ]
    },
    {
     "name": "stdout",
     "output_type": "stream",
     "text": [
      "tensor(2.1972, device='cuda:0', grad_fn=<NllLossBackward>)\n"
     ]
    },
    {
     "name": "stderr",
     "output_type": "stream",
     "text": [
      "100%|██████████| 14987/14987 [00:42<00:00, 349.44it/s]\n"
     ]
    },
    {
     "name": "stdout",
     "output_type": "stream",
     "text": [
      "tensor(2.1972, device='cuda:0', grad_fn=<NllLossBackward>)\n"
     ]
    },
    {
     "name": "stderr",
     "output_type": "stream",
     "text": [
      " 91%|█████████ | 13662/14987 [00:38<00:03, 360.10it/s]"
     ]
    }
   ],
   "source": [
    "blstm_model = BLSTM(len(vocab_set),embedding_dim, hidden_dim, num_classes, linear_out_dim, lstm_layer, lstm_dropout).to(device)\n",
    "optimizer = torch.optim.SGD(blstm_model.parameters(), lr=0.1)\n",
    "loss_func = nn.CrossEntropyLoss().to(device)\n",
    "epochs = 50\n",
    "\n",
    "input_batch, target_batch = makeData(train_sentences)\n",
    "\n",
    "for epoch in range(epochs):\n",
    "    # train one sentence at a time\n",
    "    for input, target in tqdm(zip(input_batch, target_batch), total=len(input_batch)):\n",
    "\n",
    "        x = torch.LongTensor([input]).to(device)\n",
    "        y = torch.LongTensor(target).to(device)\n",
    "        preds = blstm_model(x)\n",
    "        loss = loss_func(preds,y)\n",
    "        optimizer.zero_grad()\n",
    "        loss.backward()\n",
    "        optimizer.step()\n",
    "    print(loss)\n",
    "\n",
    "    "
   ]
  },
  {
   "cell_type": "code",
   "execution_count": 384,
   "id": "3399e97c",
   "metadata": {},
   "outputs": [
    {
     "data": {
      "text/plain": [
       "BLSTM(\n",
       "  (embedding): Embedding(20625, 100)\n",
       "  (bilstm): LSTM(100, 256, batch_first=True, bidirectional=True)\n",
       "  (fc1): Linear(in_features=512, out_features=128, bias=True)\n",
       "  (fc2): Linear(in_features=128, out_features=9, bias=True)\n",
       "  (dropout): Dropout(p=0.33, inplace=False)\n",
       ")"
      ]
     },
     "execution_count": 384,
     "metadata": {},
     "output_type": "execute_result"
    }
   ],
   "source": [
    "blstm_model = BLSTM(len(vocab_set),embedding_dim, hidden_dim, num_classes, linear_out_dim, lstm_layer, lstm_dropout).to(device)\n",
    "blstm_model"
   ]
  }
 ],
 "metadata": {
  "kernelspec": {
   "display_name": "Python 3 (ipykernel)",
   "language": "python",
   "name": "python3"
  },
  "language_info": {
   "codemirror_mode": {
    "name": "ipython",
    "version": 3
   },
   "file_extension": ".py",
   "mimetype": "text/x-python",
   "name": "python",
   "nbconvert_exporter": "python",
   "pygments_lexer": "ipython3",
   "version": "3.9.0"
  }
 },
 "nbformat": 4,
 "nbformat_minor": 5
}
