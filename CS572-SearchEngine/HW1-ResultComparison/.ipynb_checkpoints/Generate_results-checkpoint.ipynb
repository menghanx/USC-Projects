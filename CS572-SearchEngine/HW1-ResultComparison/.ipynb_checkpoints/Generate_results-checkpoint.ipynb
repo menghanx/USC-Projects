{
 "cells": [
  {
   "cell_type": "code",
   "execution_count": 77,
   "id": "8bd100cf",
   "metadata": {},
   "outputs": [],
   "source": [
    "from bs4 import BeautifulSoup as Soup\n",
    "import requests, random, time, json"
   ]
  },
  {
   "cell_type": "code",
   "execution_count": 88,
   "id": "c6ac13bb",
   "metadata": {},
   "outputs": [
    {
     "data": {
      "text/plain": [
       "[]"
      ]
     },
     "execution_count": 88,
     "metadata": {},
     "output_type": "execute_result"
    }
   ],
   "source": [
    "url=\"http://www.ask.com/web?q=\"\n",
    "\n",
    "with open('queries.txt') as f:\n",
    "    lines = f.readlines()\n",
    "lines"
   ]
  },
  {
   "cell_type": "code",
   "execution_count": 85,
   "id": "ac1d7a70",
   "metadata": {},
   "outputs": [
    {
     "name": "stdout",
     "output_type": "stream",
     "text": [
      "query: How is the spinning mule fuelled\n",
      "pausing 23 seconds...\n",
      "10 results found\n",
      "query: What are two properties or characteristics of cotton fibers\n",
      "pausing 27 seconds...\n",
      "10 results found\n"
     ]
    },
    {
     "data": {
      "text/plain": [
       "{'How is the spinning mule fuelled': ['https://ageofrevolution.org/200-object/cromptons-spinning-mule/',\n",
       "  'https://en.wikipedia.org/wiki/Spinning_mule',\n",
       "  'https://www.thoughtco.com/spinning-mule-samuel-crompton-1991498',\n",
       "  'https://www.britannica.com/technology/spinning-mule',\n",
       "  'https://www.belpernorthmill.org.uk/collections/our-favourite-things/the-spinning-mule/',\n",
       "  'https://www.sidmartinbio.org/what-was-the-impact-of-the-spinning-mule/',\n",
       "  'https://askinglot.com/how-does-the-spinning-mule-operate',\n",
       "  'https://askinglot.com/how-was-the-spinning-mule-invented',\n",
       "  'https://lisbdnet.com/how-does-the-spinning-mule-work/',\n",
       "  'https://intriguing-history.com/was-spinning-mule/'],\n",
       " 'What are two properties or characteristics of cotton fibers': ['https://www.sciencedirect.com/topics/engineering/cotton-fibre',\n",
       "  'https://www.textileschool.com/164/cotton-fibers-and-its-properties/',\n",
       "  'https://barnhardtcotton.net/technology/cotton-properties/',\n",
       "  'https://textilefashionstudy.com/cotton-fiber-physical-and-chemical-properties-of-cotton/',\n",
       "  'https://www.textileproperty.com/characteristics-of-cotton/',\n",
       "  'https://www.masterclass.com/articles/what-is-cotton',\n",
       "  'https://textiletuts.com/properties-of-cotton-fiber/',\n",
       "  'https://sewport.com/fabrics-directory/cotton-fabric',\n",
       "  'https://www.fabriclink.com/University/Cotton.cfm',\n",
       "  'https://oureverydaylife.com/properties-of-cotton-fabric-12312307.html']}"
      ]
     },
     "execution_count": 85,
     "metadata": {},
     "output_type": "execute_result"
    }
   ],
   "source": [
    "queries=[\n",
    "    \"How is the spinning mule fuelled\",\n",
    "    \"What are two properties or characteristics of cotton fibers\"\n",
    "]\n",
    "\n",
    "json_data = {}\n",
    "\n",
    "for query in queries:\n",
    "    print(\"query: \" + query)\n",
    "    timeout=random.randint(10,100)\n",
    "    print(\"pausing \" + str(timeout) + \" seconds...\")\n",
    "    time.sleep(timeout)\n",
    "    \n",
    "    # Request\n",
    "    req = url + query\n",
    "    # html from request\n",
    "    html = requests.get(req).content\n",
    "    # select url from search result\n",
    "    soup = Soup(html)\n",
    "    results = soup.find_all(\"div\", {\"class\": \"PartialSearchResults-item-title\"})\n",
    "    ranked_urls=[]\n",
    "    for res in results:\n",
    "        link=res.find('a')['href']\n",
    "        # check duplicates\n",
    "        if link in ranked_urls:\n",
    "            continue\n",
    "        ranked_urls.append(link)\n",
    "        if len(ranked_urls) == 10:\n",
    "            break\n",
    "#     size=10 if len(results) >= size else len(results)\n",
    "#     ranked_urls=[]\n",
    "#     for i in range(size):\n",
    "#         ranked_urls.append(results[i].find('a')['href'])\n",
    "    # add query and results to json data\n",
    "    json_data[query]=ranked_urls\n",
    "    print(str(len(ranked_urls)) + \" results found\")\n",
    "json_data"
   ]
  },
  {
   "cell_type": "code",
   "execution_count": 82,
   "id": "d5ab198b",
   "metadata": {},
   "outputs": [],
   "source": [
    "# write data to json file\n",
    "with open('hw1.json', 'w', encoding='utf-8') as f:\n",
    "    json.dump(json_data, f, ensure_ascii=False, indent=2)"
   ]
  }
 ],
 "metadata": {
  "kernelspec": {
   "display_name": "Python 3 (ipykernel)",
   "language": "python",
   "name": "python3"
  },
  "language_info": {
   "codemirror_mode": {
    "name": "ipython",
    "version": 3
   },
   "file_extension": ".py",
   "mimetype": "text/x-python",
   "name": "python",
   "nbconvert_exporter": "python",
   "pygments_lexer": "ipython3",
   "version": "3.9.0"
  }
 },
 "nbformat": 4,
 "nbformat_minor": 5
}
