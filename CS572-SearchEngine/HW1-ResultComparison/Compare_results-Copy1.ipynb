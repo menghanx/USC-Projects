{
 "cells": [
  {
   "cell_type": "code",
   "execution_count": 75,
   "id": "51c55d93",
   "metadata": {},
   "outputs": [],
   "source": [
    "import json, csv"
   ]
  },
  {
   "cell_type": "code",
   "execution_count": 76,
   "id": "8b114add",
   "metadata": {},
   "outputs": [],
   "source": [
    "f = open(\"Google_Result3.json\")\n",
    "google_data = json.load(f)"
   ]
  },
  {
   "cell_type": "code",
   "execution_count": 83,
   "id": "fa79d9d6",
   "metadata": {
    "scrolled": false
   },
   "outputs": [],
   "source": [
    "f2 = open(\"hw1.json\")\n",
    "ask_data = json.load(f2)"
   ]
  },
  {
   "cell_type": "code",
   "execution_count": 84,
   "id": "a8c3cc21",
   "metadata": {},
   "outputs": [
    {
     "name": "stdout",
     "output_type": "stream",
     "text": [
      "What is the hackcode to stick rpg complete\n",
      "8\n",
      "You hear chreeing noises on your Nissian Altima\n",
      "8\n"
     ]
    }
   ],
   "source": [
    "for key in ask_data.keys():\n",
    "    if len(ask_data[key]) < 10:\n",
    "        print(key)\n",
    "        print(len(ask_data[key]))"
   ]
  },
  {
   "cell_type": "code",
   "execution_count": 64,
   "id": "c88bc7ac",
   "metadata": {
    "scrolled": true
   },
   "outputs": [],
   "source": [
    "number = 0\n",
    "outputs = []\n",
    "\n",
    "total_overlap = 0\n",
    "total_overlap_per = 0\n",
    "total_rho = 0\n",
    "\n",
    "for key in ask_data.keys():\n",
    "    number += 1\n",
    "    if key not in google_data.keys():\n",
    "        print(key + \" not found\")\n",
    "        break\n",
    "    else:\n",
    "        ask_res=ask_data[key]\n",
    "        google_res=google_data[key]\n",
    "        overlap = list(set(ask_res) & set(google_res))\n",
    "        # number of overlapping results\n",
    "        n_overlap = len(overlap)\n",
    "        total_overlap += n_overlap\n",
    "        \n",
    "        # Percent overlap\n",
    "        per_overlap = n_overlap / 10.0 * 100\n",
    "        total_overlap_per += per_overlap\n",
    "        \n",
    "        # Spearman rho\n",
    "        if n_overlap == 0:\n",
    "            rho = 0\n",
    "        elif n_overlap == 1:\n",
    "            for q in overlap:\n",
    "                ask_rank = ask_res.index(q)\n",
    "                google_rank = google_res.index(q)\n",
    "                if ask_rank == google_rank:\n",
    "                    rho = 1.0\n",
    "                else:\n",
    "                    rho = 0.0\n",
    "        else:\n",
    "            sum_d_sqr = 0\n",
    "            for q in overlap:\n",
    "                ask_rank = ask_res.index(q)\n",
    "                google_rank = google_res.index(q)\n",
    "                d_sqr = (google_rank - ask_rank) ** 2\n",
    "                sum_d_sqr += d_sqr\n",
    "            rho = 1 - (6*sum_d_sqr)/(n_overlap*(n_overlap**2 - 1))\n",
    "        total_rho += rho\n",
    "        \n",
    "        output = [\"Query \"+str(number), \" \"+str(n_overlap), \" \"+str(per_overlap), \" \"+str(rho)]\n",
    "        outputs.append(output)"
   ]
  },
  {
   "cell_type": "code",
   "execution_count": 65,
   "id": "ef7eff1f",
   "metadata": {},
   "outputs": [],
   "source": [
    "header = ['Queries', 'Number of Overlapping Results', 'Percent Overlap', \"Spearman Coefficient\"]\n",
    "\n",
    "avg_overlap = \" \" + str(total_overlap/number)\n",
    "avg_overlap_per = \" \" + str(total_overlap_per/number)\n",
    "avg_rho = \" \" + str(total_rho/number)\n",
    "\n",
    "summary = ['Averages', avg_overlap, avg_overlap_per, avg_rho]\n",
    "\n",
    "with open(\"hw1_xie.csv\", \"w\", newline='') as csvf:\n",
    "    writer = csv.writer(csvf, delimiter=\",\")\n",
    "    writer.writerow(header)\n",
    "    for out in outputs:\n",
    "        writer.writerow(out)\n",
    "    writer.writerow(summary)"
   ]
  }
 ],
 "metadata": {
  "kernelspec": {
   "display_name": "Python 3 (ipykernel)",
   "language": "python",
   "name": "python3"
  },
  "language_info": {
   "codemirror_mode": {
    "name": "ipython",
    "version": 3
   },
   "file_extension": ".py",
   "mimetype": "text/x-python",
   "name": "python",
   "nbconvert_exporter": "python",
   "pygments_lexer": "ipython3",
   "version": "3.9.0"
  }
 },
 "nbformat": 4,
 "nbformat_minor": 5
}
